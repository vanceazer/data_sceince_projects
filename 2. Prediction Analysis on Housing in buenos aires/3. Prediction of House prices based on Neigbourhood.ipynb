{
 "cells": [
  {
   "cell_type": "code",
   "execution_count": 22,
   "id": "7a4e4592",
   "metadata": {},
   "outputs": [],
   "source": [
    "import warnings\n",
    "from glob import glob\n",
    "\n",
    "import matplotlib.pyplot as plt\n",
    "import numpy as np\n",
    "import pandas as pd\n",
    "\n",
    "from category_encoders import OneHotEncoder\n",
    "from sklearn.linear_model import LinearRegression, Ridge  # noqa F401\n",
    "from sklearn.metrics import mean_absolute_error\n",
    "from sklearn.pipeline import make_pipeline\n",
    "from sklearn.utils.validation import check_is_fitted"
   ]
  },
  {
   "cell_type": "markdown",
   "id": "db1f63d5",
   "metadata": {},
   "source": [
    "# Import Data"
   ]
  },
  {
   "cell_type": "code",
   "execution_count": 23,
   "id": "75c611f0",
   "metadata": {},
   "outputs": [],
   "source": [
    "def wrangle(filepath):\n",
    "    # Read CSV file\n",
    "    df = pd.read_csv(filepath, encoding='latin-1')\n",
    "\n",
    "    # Subset data: Apartments in \"Capital Federal\", less than 400,000\n",
    "    mask_ba = df[\"place_with_parent_names\"].str.contains(\"Capital Federal\")\n",
    "    mask_apt = df[\"property_type\"] == \"apartment\"\n",
    "    mask_price = df[\"price_aprox_usd\"] < 400_000\n",
    "    df = df[mask_ba & mask_apt & mask_price]\n",
    "\n",
    "    # Subset data: Remove outliers for \"surface_covered_in_m2\"\n",
    "    low, high = df[\"surface_covered_in_m2\"].quantile([0.1, 0.9])\n",
    "    mask_area = df[\"surface_covered_in_m2\"].between(low, high)\n",
    "    df = df[mask_area]\n",
    "\n",
    "    # Split \"lat-lon\" column\n",
    "    df[[\"lat\", \"lon\"]] = df[\"lat-lon\"].str.split(\",\", expand=True).astype(float)\n",
    "    df.drop(columns=\"lat-lon\", inplace=True)\n",
    "    \n",
    "#     extracting the neigbourhood\n",
    "    df['neighbourhood'] = df['place_with_parent_names'].str.split('|', expand=True)[3]\n",
    "    df.drop(columns= 'place_with_parent_names', inplace=True)\n",
    "    \n",
    "\n",
    "    return df"
   ]
  },
  {
   "cell_type": "code",
   "execution_count": 24,
   "id": "44d5fd2c",
   "metadata": {},
   "outputs": [
    {
     "data": {
      "text/plain": [
       "5"
      ]
     },
     "execution_count": 24,
     "metadata": {},
     "output_type": "execute_result"
    }
   ],
   "source": [
    "# putting the files to be used in a list so as to wrangle them all at once\n",
    "files = glob(\"data/buenos-aires-real-estate-*.csv\")\n",
    "files\n",
    "len(files)"
   ]
  },
  {
   "cell_type": "code",
   "execution_count": 25,
   "id": "ffa41218",
   "metadata": {},
   "outputs": [
    {
     "name": "stdout",
     "output_type": "stream",
     "text": [
      "(1343, 17)\n",
      "(1315, 17)\n",
      "(1288, 17)\n",
      "(1305, 17)\n",
      "(1331, 17)\n"
     ]
    }
   ],
   "source": [
    "# looping through the files to convert each file into a dataframe\n",
    "df_list = []\n",
    "for file in files:\n",
    "#     print(file)\n",
    "    df = wrangle(file)\n",
    "    print(df.shape)\n",
    "    df_list.append(df)"
   ]
  },
  {
   "cell_type": "code",
   "execution_count": 26,
   "id": "4e131468",
   "metadata": {},
   "outputs": [
    {
     "data": {
      "text/plain": [
       "5"
      ]
     },
     "execution_count": 26,
     "metadata": {},
     "output_type": "execute_result"
    }
   ],
   "source": [
    "len(df_list)"
   ]
  },
  {
   "cell_type": "code",
   "execution_count": 27,
   "id": "9de1cce1",
   "metadata": {},
   "outputs": [
    {
     "name": "stdout",
     "output_type": "stream",
     "text": [
      "(6582, 17)\n"
     ]
    },
    {
     "data": {
      "text/html": [
       "<div>\n",
       "<style scoped>\n",
       "    .dataframe tbody tr th:only-of-type {\n",
       "        vertical-align: middle;\n",
       "    }\n",
       "\n",
       "    .dataframe tbody tr th {\n",
       "        vertical-align: top;\n",
       "    }\n",
       "\n",
       "    .dataframe thead th {\n",
       "        text-align: right;\n",
       "    }\n",
       "</style>\n",
       "<table border=\"1\" class=\"dataframe\">\n",
       "  <thead>\n",
       "    <tr style=\"text-align: right;\">\n",
       "      <th></th>\n",
       "      <th>operation</th>\n",
       "      <th>property_type</th>\n",
       "      <th>price</th>\n",
       "      <th>currency</th>\n",
       "      <th>price_aprox_local_currency</th>\n",
       "      <th>price_aprox_usd</th>\n",
       "      <th>surface_total_in_m2</th>\n",
       "      <th>surface_covered_in_m2</th>\n",
       "      <th>price_usd_per_m2</th>\n",
       "      <th>price_per_m2</th>\n",
       "      <th>floor</th>\n",
       "      <th>rooms</th>\n",
       "      <th>expenses</th>\n",
       "      <th>properati_url</th>\n",
       "      <th>lat</th>\n",
       "      <th>lon</th>\n",
       "      <th>neighbourhood</th>\n",
       "    </tr>\n",
       "  </thead>\n",
       "  <tbody>\n",
       "    <tr>\n",
       "      <th>0</th>\n",
       "      <td>sell</td>\n",
       "      <td>apartment</td>\n",
       "      <td>129000.0</td>\n",
       "      <td>USD</td>\n",
       "      <td>1955949.6</td>\n",
       "      <td>129000.0</td>\n",
       "      <td>76.0</td>\n",
       "      <td>70.0</td>\n",
       "      <td>1697.368421</td>\n",
       "      <td>1842.857143</td>\n",
       "      <td>NaN</td>\n",
       "      <td>NaN</td>\n",
       "      <td>NaN</td>\n",
       "      <td>http://chacarita.properati.com.ar/10qlv_venta_...</td>\n",
       "      <td>-34.584651</td>\n",
       "      <td>-58.454693</td>\n",
       "      <td>Chacarita</td>\n",
       "    </tr>\n",
       "    <tr>\n",
       "      <th>1</th>\n",
       "      <td>sell</td>\n",
       "      <td>apartment</td>\n",
       "      <td>87000.0</td>\n",
       "      <td>USD</td>\n",
       "      <td>1319128.8</td>\n",
       "      <td>87000.0</td>\n",
       "      <td>48.0</td>\n",
       "      <td>42.0</td>\n",
       "      <td>1812.500000</td>\n",
       "      <td>2071.428571</td>\n",
       "      <td>NaN</td>\n",
       "      <td>NaN</td>\n",
       "      <td>NaN</td>\n",
       "      <td>http://villa-luro.properati.com.ar/12m82_venta...</td>\n",
       "      <td>-34.638979</td>\n",
       "      <td>-58.500115</td>\n",
       "      <td>Villa Luro</td>\n",
       "    </tr>\n",
       "    <tr>\n",
       "      <th>2</th>\n",
       "      <td>sell</td>\n",
       "      <td>apartment</td>\n",
       "      <td>118000.0</td>\n",
       "      <td>USD</td>\n",
       "      <td>1789163.2</td>\n",
       "      <td>118000.0</td>\n",
       "      <td>NaN</td>\n",
       "      <td>54.0</td>\n",
       "      <td>NaN</td>\n",
       "      <td>2185.185185</td>\n",
       "      <td>NaN</td>\n",
       "      <td>2.0</td>\n",
       "      <td>NaN</td>\n",
       "      <td>http://caballito.properati.com.ar/11wqh_venta_...</td>\n",
       "      <td>-34.615847</td>\n",
       "      <td>-58.459957</td>\n",
       "      <td>Caballito</td>\n",
       "    </tr>\n",
       "    <tr>\n",
       "      <th>3</th>\n",
       "      <td>sell</td>\n",
       "      <td>apartment</td>\n",
       "      <td>57000.0</td>\n",
       "      <td>USD</td>\n",
       "      <td>864256.8</td>\n",
       "      <td>57000.0</td>\n",
       "      <td>42.0</td>\n",
       "      <td>42.0</td>\n",
       "      <td>1357.142857</td>\n",
       "      <td>1357.142857</td>\n",
       "      <td>5.0</td>\n",
       "      <td>2.0</td>\n",
       "      <td>364.0</td>\n",
       "      <td>http://constitucion.properati.com.ar/k2f0_vent...</td>\n",
       "      <td>-34.625222</td>\n",
       "      <td>-58.382382</td>\n",
       "      <td>Constitución</td>\n",
       "    </tr>\n",
       "    <tr>\n",
       "      <th>4</th>\n",
       "      <td>sell</td>\n",
       "      <td>apartment</td>\n",
       "      <td>90000.0</td>\n",
       "      <td>USD</td>\n",
       "      <td>1364616.0</td>\n",
       "      <td>90000.0</td>\n",
       "      <td>57.0</td>\n",
       "      <td>50.0</td>\n",
       "      <td>1578.947368</td>\n",
       "      <td>1800.000000</td>\n",
       "      <td>NaN</td>\n",
       "      <td>3.0</td>\n",
       "      <td>450.0</td>\n",
       "      <td>http://once.properati.com.ar/suwa_venta_depart...</td>\n",
       "      <td>-34.610610</td>\n",
       "      <td>-58.412511</td>\n",
       "      <td>Once</td>\n",
       "    </tr>\n",
       "  </tbody>\n",
       "</table>\n",
       "</div>"
      ],
      "text/plain": [
       "  operation property_type     price currency  price_aprox_local_currency  \\\n",
       "0      sell     apartment  129000.0      USD                   1955949.6   \n",
       "1      sell     apartment   87000.0      USD                   1319128.8   \n",
       "2      sell     apartment  118000.0      USD                   1789163.2   \n",
       "3      sell     apartment   57000.0      USD                    864256.8   \n",
       "4      sell     apartment   90000.0      USD                   1364616.0   \n",
       "\n",
       "   price_aprox_usd  surface_total_in_m2  surface_covered_in_m2  \\\n",
       "0         129000.0                 76.0                   70.0   \n",
       "1          87000.0                 48.0                   42.0   \n",
       "2         118000.0                  NaN                   54.0   \n",
       "3          57000.0                 42.0                   42.0   \n",
       "4          90000.0                 57.0                   50.0   \n",
       "\n",
       "   price_usd_per_m2  price_per_m2  floor  rooms  expenses  \\\n",
       "0       1697.368421   1842.857143    NaN    NaN       NaN   \n",
       "1       1812.500000   2071.428571    NaN    NaN       NaN   \n",
       "2               NaN   2185.185185    NaN    2.0       NaN   \n",
       "3       1357.142857   1357.142857    5.0    2.0     364.0   \n",
       "4       1578.947368   1800.000000    NaN    3.0     450.0   \n",
       "\n",
       "                                       properati_url        lat        lon  \\\n",
       "0  http://chacarita.properati.com.ar/10qlv_venta_... -34.584651 -58.454693   \n",
       "1  http://villa-luro.properati.com.ar/12m82_venta... -34.638979 -58.500115   \n",
       "2  http://caballito.properati.com.ar/11wqh_venta_... -34.615847 -58.459957   \n",
       "3  http://constitucion.properati.com.ar/k2f0_vent... -34.625222 -58.382382   \n",
       "4  http://once.properati.com.ar/suwa_venta_depart... -34.610610 -58.412511   \n",
       "\n",
       "  neighbourhood  \n",
       "0     Chacarita  \n",
       "1    Villa Luro  \n",
       "2     Caballito  \n",
       "3  Constitución  \n",
       "4          Once  "
      ]
     },
     "execution_count": 27,
     "metadata": {},
     "output_type": "execute_result"
    }
   ],
   "source": [
    "combo_df = pd.concat(df_list, ignore_index=True)\n",
    "print(combo_df.shape)\n",
    "combo_df.head()"
   ]
  },
  {
   "cell_type": "markdown",
   "id": "16346c56",
   "metadata": {},
   "source": [
    "# Splitting the data"
   ]
  },
  {
   "cell_type": "code",
   "execution_count": 33,
   "id": "d34032ec",
   "metadata": {},
   "outputs": [
    {
     "data": {
      "text/plain": [
       "(6582, 1)"
      ]
     },
     "execution_count": 33,
     "metadata": {},
     "output_type": "execute_result"
    }
   ],
   "source": [
    "target = \"price_aprox_usd\"\n",
    "features = [\"neighbourhood\"]\n",
    "y_train = combo_df[target]\n",
    "X_train = combo_df[features]\n",
    "\n",
    "y_train.shape\n",
    "X_train.shape"
   ]
  },
  {
   "cell_type": "markdown",
   "id": "f66c861d",
   "metadata": {},
   "source": [
    "# Building The Model"
   ]
  },
  {
   "cell_type": "code",
   "execution_count": 42,
   "id": "735341cc",
   "metadata": {},
   "outputs": [
    {
     "name": "stdout",
     "output_type": "stream",
     "text": [
      "Mean apt price: 132383.83701458527\n",
      "Baseline MAE: 44860.10834274134\n"
     ]
    }
   ],
   "source": [
    "y_mean = y_train.mean()\n",
    "y_mean\n",
    "y_prediction_baseline = [y_mean] * len(y_train) \n",
    "y_prediction_baseline[:7]\n",
    "\n",
    "mean_abs_error = mean_absolute_error(y_train, y_prediction_baseline)\n",
    "mean_abs_error\n",
    "\n",
    "print(\"Mean apt price:\", y_mean)\n",
    "\n",
    "print(\"Baseline MAE:\", mean_abs_error)"
   ]
  },
  {
   "cell_type": "markdown",
   "id": "0868f90c",
   "metadata": {},
   "source": [
    "# Iterating the model "
   ]
  },
  {
   "cell_type": "code",
   "execution_count": 46,
   "id": "190e9350",
   "metadata": {},
   "outputs": [
    {
     "name": "stdout",
     "output_type": "stream",
     "text": [
      "(6582, 57)\n"
     ]
    },
    {
     "data": {
      "text/html": [
       "<div>\n",
       "<style scoped>\n",
       "    .dataframe tbody tr th:only-of-type {\n",
       "        vertical-align: middle;\n",
       "    }\n",
       "\n",
       "    .dataframe tbody tr th {\n",
       "        vertical-align: top;\n",
       "    }\n",
       "\n",
       "    .dataframe thead th {\n",
       "        text-align: right;\n",
       "    }\n",
       "</style>\n",
       "<table border=\"1\" class=\"dataframe\">\n",
       "  <thead>\n",
       "    <tr style=\"text-align: right;\">\n",
       "      <th></th>\n",
       "      <th>neighbourhood_Chacarita</th>\n",
       "      <th>neighbourhood_Villa Luro</th>\n",
       "      <th>neighbourhood_Caballito</th>\n",
       "      <th>neighbourhood_Constitución</th>\n",
       "      <th>neighbourhood_Once</th>\n",
       "      <th>neighbourhood_Almagro</th>\n",
       "      <th>neighbourhood_Palermo</th>\n",
       "      <th>neighbourhood_Flores</th>\n",
       "      <th>neighbourhood_Belgrano</th>\n",
       "      <th>neighbourhood_Liniers</th>\n",
       "      <th>...</th>\n",
       "      <th>neighbourhood_Puerto Madero</th>\n",
       "      <th>neighbourhood_Agronomía</th>\n",
       "      <th>neighbourhood_Monte Castro</th>\n",
       "      <th>neighbourhood_Tribunales</th>\n",
       "      <th>neighbourhood_Villa Santa Rita</th>\n",
       "      <th>neighbourhood_Velez Sarsfield</th>\n",
       "      <th>neighbourhood_Villa Soldati</th>\n",
       "      <th>neighbourhood_Villa Real</th>\n",
       "      <th>neighbourhood_Pompeya</th>\n",
       "      <th>neighbourhood_Catalinas</th>\n",
       "    </tr>\n",
       "  </thead>\n",
       "  <tbody>\n",
       "    <tr>\n",
       "      <th>0</th>\n",
       "      <td>1</td>\n",
       "      <td>0</td>\n",
       "      <td>0</td>\n",
       "      <td>0</td>\n",
       "      <td>0</td>\n",
       "      <td>0</td>\n",
       "      <td>0</td>\n",
       "      <td>0</td>\n",
       "      <td>0</td>\n",
       "      <td>0</td>\n",
       "      <td>...</td>\n",
       "      <td>0</td>\n",
       "      <td>0</td>\n",
       "      <td>0</td>\n",
       "      <td>0</td>\n",
       "      <td>0</td>\n",
       "      <td>0</td>\n",
       "      <td>0</td>\n",
       "      <td>0</td>\n",
       "      <td>0</td>\n",
       "      <td>0</td>\n",
       "    </tr>\n",
       "    <tr>\n",
       "      <th>1</th>\n",
       "      <td>0</td>\n",
       "      <td>1</td>\n",
       "      <td>0</td>\n",
       "      <td>0</td>\n",
       "      <td>0</td>\n",
       "      <td>0</td>\n",
       "      <td>0</td>\n",
       "      <td>0</td>\n",
       "      <td>0</td>\n",
       "      <td>0</td>\n",
       "      <td>...</td>\n",
       "      <td>0</td>\n",
       "      <td>0</td>\n",
       "      <td>0</td>\n",
       "      <td>0</td>\n",
       "      <td>0</td>\n",
       "      <td>0</td>\n",
       "      <td>0</td>\n",
       "      <td>0</td>\n",
       "      <td>0</td>\n",
       "      <td>0</td>\n",
       "    </tr>\n",
       "    <tr>\n",
       "      <th>2</th>\n",
       "      <td>0</td>\n",
       "      <td>0</td>\n",
       "      <td>1</td>\n",
       "      <td>0</td>\n",
       "      <td>0</td>\n",
       "      <td>0</td>\n",
       "      <td>0</td>\n",
       "      <td>0</td>\n",
       "      <td>0</td>\n",
       "      <td>0</td>\n",
       "      <td>...</td>\n",
       "      <td>0</td>\n",
       "      <td>0</td>\n",
       "      <td>0</td>\n",
       "      <td>0</td>\n",
       "      <td>0</td>\n",
       "      <td>0</td>\n",
       "      <td>0</td>\n",
       "      <td>0</td>\n",
       "      <td>0</td>\n",
       "      <td>0</td>\n",
       "    </tr>\n",
       "    <tr>\n",
       "      <th>3</th>\n",
       "      <td>0</td>\n",
       "      <td>0</td>\n",
       "      <td>0</td>\n",
       "      <td>1</td>\n",
       "      <td>0</td>\n",
       "      <td>0</td>\n",
       "      <td>0</td>\n",
       "      <td>0</td>\n",
       "      <td>0</td>\n",
       "      <td>0</td>\n",
       "      <td>...</td>\n",
       "      <td>0</td>\n",
       "      <td>0</td>\n",
       "      <td>0</td>\n",
       "      <td>0</td>\n",
       "      <td>0</td>\n",
       "      <td>0</td>\n",
       "      <td>0</td>\n",
       "      <td>0</td>\n",
       "      <td>0</td>\n",
       "      <td>0</td>\n",
       "    </tr>\n",
       "    <tr>\n",
       "      <th>4</th>\n",
       "      <td>0</td>\n",
       "      <td>0</td>\n",
       "      <td>0</td>\n",
       "      <td>0</td>\n",
       "      <td>1</td>\n",
       "      <td>0</td>\n",
       "      <td>0</td>\n",
       "      <td>0</td>\n",
       "      <td>0</td>\n",
       "      <td>0</td>\n",
       "      <td>...</td>\n",
       "      <td>0</td>\n",
       "      <td>0</td>\n",
       "      <td>0</td>\n",
       "      <td>0</td>\n",
       "      <td>0</td>\n",
       "      <td>0</td>\n",
       "      <td>0</td>\n",
       "      <td>0</td>\n",
       "      <td>0</td>\n",
       "      <td>0</td>\n",
       "    </tr>\n",
       "  </tbody>\n",
       "</table>\n",
       "<p>5 rows × 57 columns</p>\n",
       "</div>"
      ],
      "text/plain": [
       "   neighbourhood_Chacarita  neighbourhood_Villa Luro  neighbourhood_Caballito  \\\n",
       "0                        1                         0                        0   \n",
       "1                        0                         1                        0   \n",
       "2                        0                         0                        1   \n",
       "3                        0                         0                        0   \n",
       "4                        0                         0                        0   \n",
       "\n",
       "   neighbourhood_Constitución  neighbourhood_Once  neighbourhood_Almagro  \\\n",
       "0                           0                   0                      0   \n",
       "1                           0                   0                      0   \n",
       "2                           0                   0                      0   \n",
       "3                           1                   0                      0   \n",
       "4                           0                   1                      0   \n",
       "\n",
       "   neighbourhood_Palermo  neighbourhood_Flores  neighbourhood_Belgrano  \\\n",
       "0                      0                     0                       0   \n",
       "1                      0                     0                       0   \n",
       "2                      0                     0                       0   \n",
       "3                      0                     0                       0   \n",
       "4                      0                     0                       0   \n",
       "\n",
       "   neighbourhood_Liniers  ...  neighbourhood_Puerto Madero  \\\n",
       "0                      0  ...                            0   \n",
       "1                      0  ...                            0   \n",
       "2                      0  ...                            0   \n",
       "3                      0  ...                            0   \n",
       "4                      0  ...                            0   \n",
       "\n",
       "   neighbourhood_Agronomía  neighbourhood_Monte Castro  \\\n",
       "0                        0                           0   \n",
       "1                        0                           0   \n",
       "2                        0                           0   \n",
       "3                        0                           0   \n",
       "4                        0                           0   \n",
       "\n",
       "   neighbourhood_Tribunales  neighbourhood_Villa Santa Rita  \\\n",
       "0                         0                               0   \n",
       "1                         0                               0   \n",
       "2                         0                               0   \n",
       "3                         0                               0   \n",
       "4                         0                               0   \n",
       "\n",
       "   neighbourhood_Velez Sarsfield  neighbourhood_Villa Soldati  \\\n",
       "0                              0                            0   \n",
       "1                              0                            0   \n",
       "2                              0                            0   \n",
       "3                              0                            0   \n",
       "4                              0                            0   \n",
       "\n",
       "   neighbourhood_Villa Real  neighbourhood_Pompeya  neighbourhood_Catalinas  \n",
       "0                         0                      0                        0  \n",
       "1                         0                      0                        0  \n",
       "2                         0                      0                        0  \n",
       "3                         0                      0                        0  \n",
       "4                         0                      0                        0  \n",
       "\n",
       "[5 rows x 57 columns]"
      ]
     },
     "execution_count": 46,
     "metadata": {},
     "output_type": "execute_result"
    }
   ],
   "source": [
    "# use one hot encoding\n",
    "# instantiate\n",
    "ohe = OneHotEncoder(use_cat_names=True)\n",
    "# fit\n",
    "ohe.fit(X_train)\n",
    "# transform\n",
    "XT_train = ohe.transform(X_train)\n",
    "print(XT_train.shape)\n",
    "XT_train.head()\n"
   ]
  },
  {
   "cell_type": "markdown",
   "id": "457f6556",
   "metadata": {},
   "source": [
    "#  Build pipeline"
   ]
  },
  {
   "cell_type": "code",
   "execution_count": 48,
   "id": "2c3cc353",
   "metadata": {},
   "outputs": [
    {
     "data": {
      "text/plain": [
       "Pipeline(steps=[('onehotencoder',\n",
       "                 OneHotEncoder(cols=['neighbourhood'], use_cat_names=True)),\n",
       "                ('linearregression', LinearRegression())])"
      ]
     },
     "execution_count": 48,
     "metadata": {},
     "output_type": "execute_result"
    }
   ],
   "source": [
    "# create pipeline\n",
    "\n",
    "model = make_pipeline(\n",
    "    OneHotEncoder(use_cat_names=True),\n",
    "    LinearRegression()\n",
    "\n",
    ")\n",
    "\n",
    "# fitting model into the trainng data\n",
    "model.fit(X_train, y_train)"
   ]
  },
  {
   "cell_type": "markdown",
   "id": "786c86b0",
   "metadata": {},
   "source": [
    "#  Evaluate the model"
   ]
  },
  {
   "cell_type": "code",
   "execution_count": 50,
   "id": "ae06bd66",
   "metadata": {},
   "outputs": [
    {
     "data": {
      "text/plain": [
       "39342.09807201459"
      ]
     },
     "execution_count": 50,
     "metadata": {},
     "output_type": "execute_result"
    }
   ],
   "source": [
    "y_prediction_training = model.predict(X_train)\n",
    "\n",
    "\n",
    "mean_abs_error_pred_training = mean_absolute_error(y_train, y_prediction_training)\n",
    "mean_abs_error_pred_training"
   ]
  },
  {
   "cell_type": "code",
   "execution_count": 53,
   "id": "5112e5da",
   "metadata": {},
   "outputs": [
    {
     "data": {
      "text/plain": [
       "0    249056.0\n",
       "1    160928.0\n",
       "2     98048.0\n",
       "3    110240.0\n",
       "4    128320.0\n",
       "dtype: float64"
      ]
     },
     "execution_count": 53,
     "metadata": {},
     "output_type": "execute_result"
    }
   ],
   "source": [
    "# checking the perfomrnace of the model\n",
    "X_test = pd.read_csv(\"data/buenos-aires-test-features.csv\", encoding='latin-1')[features]\n",
    "y_pred_test = pd.Series(model.predict(X_test))\n",
    "y_pred_test.head()"
   ]
  },
  {
   "cell_type": "markdown",
   "id": "ae570d7d",
   "metadata": {},
   "source": [
    "# Communicating the results"
   ]
  },
  {
   "cell_type": "code",
   "execution_count": 56,
   "id": "df1eaf98",
   "metadata": {},
   "outputs": [
    {
     "name": "stdout",
     "output_type": "stream",
     "text": [
      "Model Intercept: 1.6490389780269504e+17\n",
      "Model coefficient\": [-1.64903898e+17 -1.64903898e+17 -1.64903898e+17 -1.64903898e+17\n",
      " -1.64903898e+17 -1.64903898e+17 -1.64903898e+17 -1.64903898e+17\n",
      " -1.64903898e+17 -1.64903898e+17 -1.64903898e+17 -1.64903898e+17\n",
      " -1.64903898e+17 -1.64903898e+17 -1.64903898e+17 -1.64903898e+17\n",
      " -1.64903898e+17 -1.64903898e+17 -1.64903898e+17 -1.64903898e+17\n",
      " -1.64903898e+17 -1.64903898e+17 -1.64903898e+17 -1.64903898e+17\n",
      " -1.64903898e+17 -1.64903898e+17 -1.64903898e+17 -1.64903898e+17\n",
      " -1.64903898e+17 -1.64903898e+17 -1.64903898e+17 -1.64903898e+17\n",
      " -1.64903898e+17 -1.64903898e+17 -1.64903898e+17 -1.64903898e+17\n",
      " -1.64903898e+17 -1.64903898e+17 -1.64903898e+17 -1.64903898e+17\n",
      " -1.64903898e+17 -1.64903898e+17 -1.64903898e+17 -1.64903898e+17\n",
      " -1.64903898e+17 -1.64903898e+17 -1.64903898e+17 -1.64903898e+17\n",
      " -1.64903898e+17 -1.64903898e+17 -1.64903898e+17 -1.64903898e+17\n",
      " -1.64903898e+17 -1.64903898e+17 -1.64903898e+17 -1.64903898e+17\n",
      " -1.64903898e+17]\n",
      "coefficients len: 57\n"
     ]
    }
   ],
   "source": [
    "# getting the intercept and coefficient of the model\n",
    "intercept = model.named_steps[\"linearregression\"].intercept_.round(2)\n",
    "print(\"Model Intercept:\", intercept) \n",
    "\n",
    "coefficient = model.named_steps[\"linearregression\"].coef_.round(2)\n",
    "print('Model coefficient\":', coefficient)\n",
    "print(\"coefficients len:\", len(coefficient))"
   ]
  },
  {
   "cell_type": "code",
   "execution_count": 59,
   "id": "0017c240",
   "metadata": {},
   "outputs": [
    {
     "name": "stdout",
     "output_type": "stream",
     "text": [
      "features len: 57\n",
      "['neighbourhood_Chacarita' 'neighbourhood_Villa Luro'\n",
      " 'neighbourhood_Caballito' 'neighbourhood_Constitución'\n",
      " 'neighbourhood_Once']\n"
     ]
    }
   ],
   "source": [
    "# extract feature names from one hot encoder\n",
    "feature_names = model.named_steps['onehotencoder'].get_feature_names_out()\n",
    "print(\"features len:\", len(feature_names))\n",
    "print(feature_names[:5])  # First five feature names"
   ]
  },
  {
   "cell_type": "code",
   "execution_count": 61,
   "id": "1d84922c",
   "metadata": {},
   "outputs": [
    {
     "data": {
      "text/plain": [
       "neighbourhood_Chacarita      -1.649039e+17\n",
       "neighbourhood_Villa Luro     -1.649039e+17\n",
       "neighbourhood_Caballito      -1.649039e+17\n",
       "neighbourhood_Constitución   -1.649039e+17\n",
       "neighbourhood_Once           -1.649039e+17\n",
       "dtype: float64"
      ]
     },
     "execution_count": 61,
     "metadata": {},
     "output_type": "execute_result"
    }
   ],
   "source": [
    "# create panda series\n",
    "feat_imp = pd.Series(coefficient, index=feature_names )\n",
    "feat_imp.head()"
   ]
  }
 ],
 "metadata": {
  "kernelspec": {
   "display_name": "Python 3 (ipykernel)",
   "language": "python",
   "name": "python3"
  },
  "language_info": {
   "codemirror_mode": {
    "name": "ipython",
    "version": 3
   },
   "file_extension": ".py",
   "mimetype": "text/x-python",
   "name": "python",
   "nbconvert_exporter": "python",
   "pygments_lexer": "ipython3",
   "version": "3.9.13"
  }
 },
 "nbformat": 4,
 "nbformat_minor": 5
}
