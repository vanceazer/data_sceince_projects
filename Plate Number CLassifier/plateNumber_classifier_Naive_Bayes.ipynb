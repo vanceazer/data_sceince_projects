{
 "cells": [
  {
   "cell_type": "code",
   "execution_count": 1,
   "id": "0b47b1f1",
   "metadata": {},
   "outputs": [],
   "source": [
    "import pandas as pd\n",
    "from sklearn.feature_extraction.text import CountVectorizer\n",
    "from sklearn.model_selection import train_test_split\n",
    "from sklearn.naive_bayes import MultinomialNB\n",
    "from sklearn.preprocessing import LabelEncoder\n",
    "from sklearn.metrics import accuracy_score"
   ]
  },
  {
   "cell_type": "code",
   "execution_count": 2,
   "id": "a6f8aa65",
   "metadata": {},
   "outputs": [
    {
     "data": {
      "text/html": [
       "<div>\n",
       "<style scoped>\n",
       "    .dataframe tbody tr th:only-of-type {\n",
       "        vertical-align: middle;\n",
       "    }\n",
       "\n",
       "    .dataframe tbody tr th {\n",
       "        vertical-align: top;\n",
       "    }\n",
       "\n",
       "    .dataframe thead th {\n",
       "        text-align: right;\n",
       "    }\n",
       "</style>\n",
       "<table border=\"1\" class=\"dataframe\">\n",
       "  <thead>\n",
       "    <tr style=\"text-align: right;\">\n",
       "      <th></th>\n",
       "      <th>plateNumber</th>\n",
       "      <th>category</th>\n",
       "      <th>Unnamed: 2</th>\n",
       "      <th>Unnamed: 3</th>\n",
       "      <th>Unnamed: 4</th>\n",
       "      <th>Unnamed: 5</th>\n",
       "      <th>Unnamed: 6</th>\n",
       "      <th>parameters</th>\n",
       "      <th>count</th>\n",
       "    </tr>\n",
       "  </thead>\n",
       "  <tbody>\n",
       "    <tr>\n",
       "      <th>0</th>\n",
       "      <td>DHQ243</td>\n",
       "      <td>Army</td>\n",
       "      <td>1</td>\n",
       "      <td>NaN</td>\n",
       "      <td>NaN</td>\n",
       "      <td>NaN</td>\n",
       "      <td>NaN</td>\n",
       "      <td>Regular Plate</td>\n",
       "      <td>1497.0</td>\n",
       "    </tr>\n",
       "    <tr>\n",
       "      <th>1</th>\n",
       "      <td>REP221FL</td>\n",
       "      <td>House of Rep</td>\n",
       "      <td>1</td>\n",
       "      <td>NaN</td>\n",
       "      <td>NaN</td>\n",
       "      <td>NaN</td>\n",
       "      <td>NaN</td>\n",
       "      <td>Federal Government</td>\n",
       "      <td>1108.0</td>\n",
       "    </tr>\n",
       "    <tr>\n",
       "      <th>2</th>\n",
       "      <td>270UN56</td>\n",
       "      <td>Diplomatic</td>\n",
       "      <td>1</td>\n",
       "      <td>NaN</td>\n",
       "      <td>NaN</td>\n",
       "      <td>NaN</td>\n",
       "      <td>NaN</td>\n",
       "      <td>Local Government</td>\n",
       "      <td>649.0</td>\n",
       "    </tr>\n",
       "    <tr>\n",
       "      <th>3</th>\n",
       "      <td>DHQ386</td>\n",
       "      <td>Army</td>\n",
       "      <td>1</td>\n",
       "      <td>NaN</td>\n",
       "      <td>NaN</td>\n",
       "      <td>NaN</td>\n",
       "      <td>NaN</td>\n",
       "      <td>Diplomatic</td>\n",
       "      <td>411.0</td>\n",
       "    </tr>\n",
       "    <tr>\n",
       "      <th>4</th>\n",
       "      <td>FG40U48</td>\n",
       "      <td>Federal Government</td>\n",
       "      <td>1</td>\n",
       "      <td>NaN</td>\n",
       "      <td>NaN</td>\n",
       "      <td>NaN</td>\n",
       "      <td>NaN</td>\n",
       "      <td>Police</td>\n",
       "      <td>360.0</td>\n",
       "    </tr>\n",
       "  </tbody>\n",
       "</table>\n",
       "</div>"
      ],
      "text/plain": [
       "  plateNumber            category  Unnamed: 2  Unnamed: 3  Unnamed: 4  \\\n",
       "0      DHQ243                Army           1         NaN         NaN   \n",
       "1    REP221FL        House of Rep           1         NaN         NaN   \n",
       "2     270UN56          Diplomatic           1         NaN         NaN   \n",
       "3      DHQ386                Army           1         NaN         NaN   \n",
       "4     FG40U48  Federal Government           1         NaN         NaN   \n",
       "\n",
       "   Unnamed: 5  Unnamed: 6          parameters   count  \n",
       "0         NaN         NaN       Regular Plate  1497.0  \n",
       "1         NaN         NaN  Federal Government  1108.0  \n",
       "2         NaN         NaN    Local Government   649.0  \n",
       "3         NaN         NaN          Diplomatic   411.0  \n",
       "4         NaN         NaN              Police   360.0  "
      ]
     },
     "execution_count": 2,
     "metadata": {},
     "output_type": "execute_result"
    }
   ],
   "source": [
    "# Load the dataset\n",
    "df = pd.read_csv('training_dataset_4.csv', encoding='latin-1')\n",
    "df.head()"
   ]
  },
  {
   "cell_type": "code",
   "execution_count": 3,
   "id": "60a5e9d2",
   "metadata": {},
   "outputs": [],
   "source": [
    "# Vectorize the license plate numbers\n",
    "vectorizer = CountVectorizer(analyzer='char', ngram_range=(1, 3))\n",
    "X = vectorizer.fit_transform(df['plateNumber'])\n"
   ]
  },
  {
   "cell_type": "code",
   "execution_count": 4,
   "id": "d8255a72",
   "metadata": {},
   "outputs": [],
   "source": [
    "label_encoder = LabelEncoder()\n",
    "y = label_encoder.fit_transform(df['category'])\n"
   ]
  },
  {
   "cell_type": "code",
   "execution_count": 5,
   "id": "a5c4bfab",
   "metadata": {},
   "outputs": [],
   "source": [
    "# Split the data into training and testing sets\n",
    "X_train, X_test, y_train, y_test = train_test_split(X, y, test_size=0.2, random_state=42)\n"
   ]
  },
  {
   "cell_type": "code",
   "execution_count": 6,
   "id": "5d1a7ff6",
   "metadata": {},
   "outputs": [
    {
     "data": {
      "text/plain": [
       "MultinomialNB()"
      ]
     },
     "execution_count": 6,
     "metadata": {},
     "output_type": "execute_result"
    }
   ],
   "source": [
    "# Train a Naive Bayes classifier\n",
    "classifier = MultinomialNB()\n",
    "classifier.fit(X_train, y_train)"
   ]
  },
  {
   "cell_type": "code",
   "execution_count": 7,
   "id": "face1ffd",
   "metadata": {},
   "outputs": [
    {
     "name": "stdout",
     "output_type": "stream",
     "text": [
      "Accuracy: 93.50%\n"
     ]
    }
   ],
   "source": [
    "# Predict the categories for the test data\n",
    "y_pred = classifier.predict(X_test)\n",
    "\n",
    "# Decode the predicted labels if needed\n",
    "y_pred_decoded = label_encoder.inverse_transform(y_pred)\n",
    "\n",
    "# Calculate and print the accuracy\n",
    "accuracy = accuracy_score(y_test, y_pred)\n",
    "print(f\"Accuracy: {accuracy * 100:.2f}%\")"
   ]
  },
  {
   "cell_type": "code",
   "execution_count": 8,
   "id": "26903510",
   "metadata": {},
   "outputs": [],
   "source": [
    "# Function to predict a category for a given license plate number\n",
    "def predict_category():\n",
    "    plate_number = input(\"Enter plate number: \")\n",
    "    plate_vector = vectorizer.transform([plate_number])\n",
    "    category_encoded = classifier.predict(plate_vector)[0]\n",
    "    category = label_encoder.inverse_transform([category_encoded])[0]\n",
    "    print(f'Input Plate Number: {plate_number}')\n",
    "    print(f\"Predicted Category: {category}\")\n",
    "#     return category\n",
    "\n",
    "# # Test the predict_category function\n",
    "# input_plate_number = 'FRSC2XK'\n",
    "# predicted_category = predict_category(input_plate_number)\n",
    "# print(f'Input Plate Number: {input_plate_number}')\n",
    "# print(f'Predicted Category: {predicted_category}')"
   ]
  },
  {
   "cell_type": "code",
   "execution_count": 25,
   "id": "58331b97",
   "metadata": {},
   "outputs": [
    {
     "name": "stdout",
     "output_type": "stream",
     "text": [
      "Enter plate number: REP385FU\n",
      "Input Plate Number: REP385FU\n",
      "Predicted Category: House of Rep\n"
     ]
    }
   ],
   "source": [
    "predict_category()"
   ]
  },
  {
   "cell_type": "code",
   "execution_count": 26,
   "id": "6a26f5d7",
   "metadata": {},
   "outputs": [
    {
     "data": {
      "text/plain": [
       "['plateNum_classifier_NBM_v2.joblib']"
      ]
     },
     "execution_count": 26,
     "metadata": {},
     "output_type": "execute_result"
    }
   ],
   "source": [
    "import joblib\n",
    "\n",
    "# Save the trained Naive Bayes model\n",
    "joblib.dump(classifier, 'plateNum_classifier_NBM_v2.joblib')\n"
   ]
  },
  {
   "cell_type": "code",
   "execution_count": 27,
   "id": "ad0f8c2a",
   "metadata": {},
   "outputs": [
    {
     "data": {
      "text/plain": [
       "['vectorizer2.joblib']"
      ]
     },
     "execution_count": 27,
     "metadata": {},
     "output_type": "execute_result"
    }
   ],
   "source": [
    "import joblib\n",
    "\n",
    "# Assuming you have already created and fitted the vectorizer and label_encoder during training\n",
    "# Save the CountVectorizer\n",
    "joblib.dump(vectorizer, 'vectorizer2.joblib')\n",
    "\n",
    "\n"
   ]
  },
  {
   "cell_type": "code",
   "execution_count": null,
   "id": "966d5662",
   "metadata": {},
   "outputs": [],
   "source": [
    "# Save the LabelEncoder\n",
    "joblib.dump(label_encoder, 'label_encoder.joblib')"
   ]
  }
 ],
 "metadata": {
  "kernelspec": {
   "display_name": "Python 3 (ipykernel)",
   "language": "python",
   "name": "python3"
  },
  "language_info": {
   "codemirror_mode": {
    "name": "ipython",
    "version": 3
   },
   "file_extension": ".py",
   "mimetype": "text/x-python",
   "name": "python",
   "nbconvert_exporter": "python",
   "pygments_lexer": "ipython3",
   "version": "3.9.13"
  }
 },
 "nbformat": 4,
 "nbformat_minor": 5
}
